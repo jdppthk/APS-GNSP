{
 "cells": [
  {
   "cell_type": "markdown",
   "metadata": {
    "colab_type": "text",
    "id": "view-in-github"
   },
   "source": [
    "<a href=\"https://colab.research.google.com/github/TREND-tut/TREND/blob/master/TREND_linear_regression.ipynb\" target=\"_parent\"><img src=\"https://colab.research.google.com/assets/colab-badge.svg\" alt=\"Open In Colab\"/></a>"
   ]
  },
  {
   "cell_type": "markdown",
   "metadata": {
    "colab_type": "text",
    "id": "NBv6M3XJQiOV"
   },
   "source": [
    "## Load the Dataset"
   ]
  },
  {
   "cell_type": "code",
   "execution_count": null,
   "metadata": {
    "colab": {},
    "colab_type": "code",
    "id": "vL3jsSOo3Dfr"
   },
   "outputs": [],
   "source": [
    "from sklearn import datasets ## imports datasets from scikit-learn\n",
    "data = datasets.load_boston() ## loads Boston dataset from datasets library "
   ]
  },
  {
   "cell_type": "markdown",
   "metadata": {
    "colab_type": "text",
    "id": "P4JLsFJZQngp"
   },
   "source": [
    "## Import common libraries for data processing"
   ]
  },
  {
   "cell_type": "code",
   "execution_count": 1,
   "metadata": {
    "colab": {},
    "colab_type": "code",
    "id": "o5fFpCSiAGob"
   },
   "outputs": [
    {
     "ename": "ModuleNotFoundError",
     "evalue": "No module named 'pandas'",
     "output_type": "error",
     "traceback": [
      "\u001b[0;31m---------------------------------------------------------------------------\u001b[0m",
      "\u001b[0;31mModuleNotFoundError\u001b[0m                       Traceback (most recent call last)",
      "\u001b[0;32m<ipython-input-1-a21a5a44c9ce>\u001b[0m in \u001b[0;36m<module>\u001b[0;34m\u001b[0m\n\u001b[1;32m      1\u001b[0m \u001b[0;32mimport\u001b[0m \u001b[0mnumpy\u001b[0m \u001b[0;32mas\u001b[0m \u001b[0mnp\u001b[0m\u001b[0;34m\u001b[0m\u001b[0;34m\u001b[0m\u001b[0m\n\u001b[0;32m----> 2\u001b[0;31m \u001b[0;32mimport\u001b[0m \u001b[0mpandas\u001b[0m \u001b[0;32mas\u001b[0m \u001b[0mpd\u001b[0m\u001b[0;34m\u001b[0m\u001b[0;34m\u001b[0m\u001b[0m\n\u001b[0m\u001b[1;32m      3\u001b[0m \u001b[0;31m# define the data/predictors as the pre-set feature names\u001b[0m\u001b[0;34m\u001b[0m\u001b[0;34m\u001b[0m\u001b[0;34m\u001b[0m\u001b[0m\n\u001b[1;32m      4\u001b[0m \u001b[0mdf\u001b[0m \u001b[0;34m=\u001b[0m \u001b[0mpd\u001b[0m\u001b[0;34m.\u001b[0m\u001b[0mDataFrame\u001b[0m\u001b[0;34m(\u001b[0m\u001b[0mdata\u001b[0m\u001b[0;34m.\u001b[0m\u001b[0mdata\u001b[0m\u001b[0;34m,\u001b[0m \u001b[0mcolumns\u001b[0m\u001b[0;34m=\u001b[0m\u001b[0mdata\u001b[0m\u001b[0;34m.\u001b[0m\u001b[0mfeature_names\u001b[0m\u001b[0;34m)\u001b[0m\u001b[0;34m\u001b[0m\u001b[0;34m\u001b[0m\u001b[0m\n\u001b[1;32m      5\u001b[0m \u001b[0;34m\u001b[0m\u001b[0m\n",
      "\u001b[0;31mModuleNotFoundError\u001b[0m: No module named 'pandas'"
     ]
    }
   ],
   "source": [
    "import numpy as np\n",
    "import pandas as pd\n",
    "# define the data/predictors as the pre-set feature names  \n",
    "df = pd.DataFrame(data.data, columns=data.feature_names)\n",
    "\n",
    "# Put the target (housing value -- MEDV) in another DataFrame\n",
    "target = pd.DataFrame(data.target, columns=[\"MEDV\"])\n"
   ]
  },
  {
   "cell_type": "markdown",
   "metadata": {
    "colab_type": "text",
    "id": "r9uxIejdQsJJ"
   },
   "source": [
    "## Import Plotting Libraries"
   ]
  },
  {
   "cell_type": "code",
   "execution_count": null,
   "metadata": {
    "colab": {},
    "colab_type": "code",
    "id": "6XcjslTnCLqE"
   },
   "outputs": [],
   "source": [
    "import matplotlib.pyplot as plt"
   ]
  },
  {
   "cell_type": "markdown",
   "metadata": {
    "colab_type": "text",
    "id": "FZBrCkYyQwVZ"
   },
   "source": [
    "## Store the Median house value as the independent variable y and the number of rooms as the dependent variable X."
   ]
  },
  {
   "cell_type": "code",
   "execution_count": null,
   "metadata": {
    "colab": {},
    "colab_type": "code",
    "id": "Y3ipjvymCO0L"
   },
   "outputs": [],
   "source": [
    "X = df[\"RM\"].values.reshape(-1,1)\n",
    "y = target[\"MEDV\"].values.reshape(-1,1)"
   ]
  },
  {
   "cell_type": "markdown",
   "metadata": {
    "colab_type": "text",
    "id": "1YI0ThUFQ7up"
   },
   "source": [
    "## Plot the data"
   ]
  },
  {
   "cell_type": "code",
   "execution_count": null,
   "metadata": {
    "colab": {},
    "colab_type": "code",
    "id": "HH3fIsDeCqFl"
   },
   "outputs": [],
   "source": [
    "fig = plt.figure()\n",
    "plt.scatter(X, y)\n",
    "plt.title('House Value as a function of Number of Rooms in a part of Boston')\n",
    "plt.xlabel('Number of Rooms')\n",
    "plt.ylabel('House Price in $10000')"
   ]
  },
  {
   "cell_type": "markdown",
   "metadata": {
    "colab_type": "text",
    "id": "cf1HpDGZQ92a"
   },
   "source": [
    "## Analytically calculate the solution to the linear regression problem: w = (X'y)*(X'X)^{-1}"
   ]
  },
  {
   "cell_type": "code",
   "execution_count": null,
   "metadata": {
    "colab": {},
    "colab_type": "code",
    "id": "IdG-IbBTDnUY"
   },
   "outputs": [],
   "source": [
    "w = np.dot( np.dot(X.T,y),(np.linalg.inv(np.dot(X.T, X))))"
   ]
  },
  {
   "cell_type": "markdown",
   "metadata": {
    "colab_type": "text",
    "id": "PNDA18KnROur"
   },
   "source": [
    "## Plot the model with the data"
   ]
  },
  {
   "cell_type": "code",
   "execution_count": null,
   "metadata": {
    "colab": {},
    "colab_type": "code",
    "id": "rmQv13lmEESW"
   },
   "outputs": [],
   "source": [
    "Xlin = np.linspace(3, 9, 506).reshape(-1,1)\n",
    "y_pred = Xlin*w\n",
    "plt.plot(Xlin, y_pred, 'r--')\n",
    "plt.scatter(X, y)\n",
    "plt.title('House Value as a function of Number of Rooms in a part of Boston')\n",
    "plt.xlabel('Number of Rooms')\n",
    "plt.ylabel('House Price in $10000')"
   ]
  },
  {
   "cell_type": "markdown",
   "metadata": {
    "colab_type": "text",
    "id": "LEAeUxk6RR6z"
   },
   "source": [
    "## Calculate the solution to the linear regression with a python library: statsmodels"
   ]
  },
  {
   "cell_type": "code",
   "execution_count": null,
   "metadata": {
    "colab": {},
    "colab_type": "code",
    "id": "woBT8GsuAU6Q"
   },
   "outputs": [],
   "source": [
    "import statsmodels.api as sm\n",
    "\n",
    "\n",
    "# Note the difference in argument order\n",
    "model = sm.OLS(y, X).fit()\n",
    "predictions = model.predict(Xlin) # make the predictions by the model\n",
    "plt.plot(Xlin, predictions, 'b.')\n",
    "plt.plot(Xlin, np.dot(Xlin,w), 'r--')\n",
    "plt.scatter(X, y)\n",
    "\n",
    "plt.title('House Value as a function of Number of Rooms in a part of Boston')\n",
    "plt.xlabel('Number of Rooms')\n",
    "plt.ylabel('House Price in $10000')"
   ]
  },
  {
   "cell_type": "markdown",
   "metadata": {
    "colab_type": "text",
    "id": "l8U40DyTRZob"
   },
   "source": [
    "## Calculate the solution to the linear regression problem using stochastic gradient descent using a popular Machine learning package: Keras with Tensorflow"
   ]
  },
  {
   "cell_type": "code",
   "execution_count": null,
   "metadata": {
    "colab": {},
    "colab_type": "code",
    "id": "QDjDjT1nFjtG"
   },
   "outputs": [],
   "source": [
    "!git clone https://github.com/TREND-tut/TREND.git"
   ]
  },
  {
   "cell_type": "code",
   "execution_count": null,
   "metadata": {
    "colab": {},
    "colab_type": "code",
    "id": "6fJvS3_UFsMP"
   },
   "outputs": [],
   "source": [
    "%run TREND/glasso.py"
   ]
  },
  {
   "cell_type": "code",
   "execution_count": null,
   "metadata": {
    "colab": {},
    "colab_type": "code",
    "id": "qVrT0kTBF3Nw"
   },
   "outputs": [],
   "source": [
    "[history, w_adam] = keras_regressor(X, y, num_epochs = 100, bsize = y.shape[0], learn_rate = 1e-1, N = 0, lam = 0.0)"
   ]
  },
  {
   "cell_type": "markdown",
   "metadata": {
    "colab_type": "text",
    "id": "FUKmrYJmRodE"
   },
   "source": [
    "## See that the ML technique gives a very similar solution as the analytical solution"
   ]
  },
  {
   "cell_type": "code",
   "execution_count": null,
   "metadata": {
    "colab": {},
    "colab_type": "code",
    "id": "wAbPK9JYGOt2"
   },
   "outputs": [],
   "source": [
    "print(w_adam[0])\n",
    "print(w[0])"
   ]
  },
  {
   "cell_type": "markdown",
   "metadata": {
    "colab_type": "text",
    "id": "8N0hluPvRvvE"
   },
   "source": [
    "## Plot both models together with the data and see that they concur"
   ]
  },
  {
   "cell_type": "code",
   "execution_count": null,
   "metadata": {
    "colab": {},
    "colab_type": "code",
    "id": "35FKfJO8G-nG"
   },
   "outputs": [],
   "source": [
    "y_pred = Xlin*w\n",
    "y_pred_adam = Xlin*w_adam\n",
    "plt.plot(Xlin, y_pred, 'r--')\n",
    "plt.plot(Xlin, y_pred_adam, 'b--')\n",
    "plt.scatter(X, y)\n",
    "plt.title('House Value as a function of Number of Rooms in a part of Boston')\n",
    "plt.xlabel('Number of Rooms')\n",
    "plt.ylabel('House Price in $10000')"
   ]
  }
 ],
 "metadata": {
  "colab": {
   "include_colab_link": true,
   "name": "TREND_linear_regression.ipynb",
   "provenance": [],
   "version": "0.3.2"
  },
  "kernelspec": {
   "display_name": "Python 3",
   "language": "python",
   "name": "python3"
  },
  "language_info": {
   "codemirror_mode": {
    "name": "ipython",
    "version": 3
   },
   "file_extension": ".py",
   "mimetype": "text/x-python",
   "name": "python",
   "nbconvert_exporter": "python",
   "pygments_lexer": "ipython3",
   "version": "3.6.10"
  }
 },
 "nbformat": 4,
 "nbformat_minor": 4
}
