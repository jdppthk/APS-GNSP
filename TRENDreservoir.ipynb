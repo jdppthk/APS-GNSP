{
  "nbformat": 4,
  "nbformat_minor": 0,
  "metadata": {
    "colab": {
      "name": "TRENDreservoir.ipynb",
      "version": "0.3.2",
      "provenance": [],
      "include_colab_link": true
    },
    "kernelspec": {
      "name": "python3",
      "display_name": "Python 3"
    }
  },
  "cells": [
    {
      "cell_type": "markdown",
      "metadata": {
        "id": "view-in-github",
        "colab_type": "text"
      },
      "source": [
        "<a href=\"https://colab.research.google.com/github/TREND-tut/TREND/blob/master/TRENDreservoir.ipynb\" target=\"_parent\"><img src=\"https://colab.research.google.com/assets/colab-badge.svg\" alt=\"Open In Colab\"/></a>"
      ]
    },
    {
      "cell_type": "markdown",
      "metadata": {
        "id": "51JKmDUsSHGZ",
        "colab_type": "text"
      },
      "source": [
        "## Import the required neural network functions. Feel free to go to the github page and examine the functions there."
      ]
    },
    {
      "cell_type": "code",
      "metadata": {
        "id": "p84eKf35YoVv",
        "colab_type": "code",
        "colab": {}
      },
      "source": [
        "!git clone https://github.com/TREND-tut/TREND.git"
      ],
      "execution_count": 0,
      "outputs": []
    },
    {
      "cell_type": "code",
      "metadata": {
        "id": "7urkRR_ssMvE",
        "colab_type": "code",
        "colab": {}
      },
      "source": [
        "%run TREND/reservoir.py\n",
        "%run TREND/lorenz.py"
      ],
      "execution_count": 0,
      "outputs": []
    },
    {
      "cell_type": "markdown",
      "metadata": {
        "id": "LdP626ZESTEY",
        "colab_type": "text"
      },
      "source": [
        "## Import common libraries for plotting and linear algebra"
      ]
    },
    {
      "cell_type": "code",
      "metadata": {
        "id": "tRKjxQwKyUFI",
        "colab_type": "code",
        "colab": {}
      },
      "source": [
        "import matplotlib.pyplot as plt\n",
        "import scipy"
      ],
      "execution_count": 0,
      "outputs": []
    },
    {
      "cell_type": "markdown",
      "metadata": {
        "id": "7djWHi03SX62",
        "colab_type": "text"
      },
      "source": [
        "## Run the Lorenz toy model that simulates a chaotic dynamical system and generate data"
      ]
    },
    {
      "cell_type": "code",
      "metadata": {
        "id": "eU8lt65z3rp-",
        "colab_type": "code",
        "colab": {}
      },
      "source": [
        "ModelParams = Model() \n",
        "ModelParams.a = 10\n",
        "ModelParams.b = 28\n",
        "ModelParams.c = 8.0/3.0;\n",
        "ModelParams.tau = 0.05\n",
        "ModelParams.nstep = 20000\n",
        "\n",
        "np.random.seed(1)\n",
        "\n",
        "init_cond  = np.random.normal(0, 1, (3,))\n",
        "generateddata = rk_lorenz_solve(init_cond, ModelParams)[:,1000:]"
      ],
      "execution_count": 0,
      "outputs": []
    },
    {
      "cell_type": "markdown",
      "metadata": {
        "id": "NXCikz_mSldg",
        "colab_type": "text"
      },
      "source": [
        "## Plot the X variable as a function of time"
      ]
    },
    {
      "cell_type": "code",
      "metadata": {
        "id": "3PpmZEn34EHO",
        "colab_type": "code",
        "colab": {}
      },
      "source": [
        "noise_scale = 0.01\n",
        "generateddata = generateddata + np.random.normal(0, noise_scale, generateddata.shape)\n",
        "data = np.zeros((3, generateddata.shape[1]))\n",
        "data = generateddata\n",
        "num_inputs = data.shape[0]\n",
        "\n",
        "plt.plot(data[0, 0:1999])\n",
        "plt.xlabel('time (steps)')\n",
        "plt.ylabel('X')\n",
        "plt.title('Lorenz Model Time Series')"
      ],
      "execution_count": 0,
      "outputs": []
    },
    {
      "cell_type": "markdown",
      "metadata": {
        "id": "_rdqGr4hSqNf",
        "colab_type": "text"
      },
      "source": [
        "## Plot the Y variable as a function of time"
      ]
    },
    {
      "cell_type": "code",
      "metadata": {
        "id": "sXDIaVbg7Z6R",
        "colab_type": "code",
        "colab": {}
      },
      "source": [
        "plt.plot(data[1, 0:1999])\n",
        "plt.xlabel('time (steps)')\n",
        "plt.ylabel('Y')\n",
        "plt.title('Lorenz Model Time Series')"
      ],
      "execution_count": 0,
      "outputs": []
    },
    {
      "cell_type": "markdown",
      "metadata": {
        "id": "u1ZMqSa_Su6h",
        "colab_type": "text"
      },
      "source": [
        "## Plot the Z variable as a function of time"
      ]
    },
    {
      "cell_type": "code",
      "metadata": {
        "id": "AJy60mXB7c0M",
        "colab_type": "code",
        "colab": {}
      },
      "source": [
        "plt.plot(data[2, 0:1999])\n",
        "plt.xlabel('time (steps)')\n",
        "plt.ylabel('Z')\n",
        "plt.title('Lorenz Model Time Series')"
      ],
      "execution_count": 0,
      "outputs": []
    },
    {
      "cell_type": "markdown",
      "metadata": {
        "id": "zbcup5g8S1Og",
        "colab_type": "text"
      },
      "source": [
        "## Build the neural network"
      ]
    },
    {
      "cell_type": "code",
      "metadata": {
        "id": "1FUiF2GW43l4",
        "colab_type": "code",
        "colab": {}
      },
      "source": [
        "resparams = reservoir_parameters()\n",
        "resparams.radius = 0.6\n",
        "resparams.degree = 3\n",
        "approx_res_size = 3000\n",
        "resparams.N = int(np.floor(approx_res_size/num_inputs)*num_inputs)\n",
        "resparams.sigma = 0.1\n",
        "resparams.train_length = 10000\n",
        "resparams.num_inputs = num_inputs;\n",
        "resparams.predict_length = 5000\n",
        "resparams.beta = 0.0001"
      ],
      "execution_count": 0,
      "outputs": []
    },
    {
      "cell_type": "code",
      "metadata": {
        "id": "qVTqWwCc78Tj",
        "colab_type": "code",
        "colab": {}
      },
      "source": [
        "A = generate_reservoir(resparams.N, resparams.radius, resparams.degree)\n",
        "\n",
        "win = generate_input_layer(resparams)"
      ],
      "execution_count": 0,
      "outputs": []
    },
    {
      "cell_type": "markdown",
      "metadata": {
        "id": "pCtlG3vhS7ZJ",
        "colab_type": "text"
      },
      "source": [
        "## Run the neural network and genarate the 'hidden space' states"
      ]
    },
    {
      "cell_type": "code",
      "metadata": {
        "id": "jO-foP6i9fWe",
        "colab_type": "code",
        "colab": {}
      },
      "source": [
        "states = np.zeros((resparams.N, resparams.train_length))\n",
        "\n",
        "for i in range(resparams.train_length - 1):\n",
        "  states[:,i+1] = np.tanh(A.dot(states[:,i]) + np.dot(win,data[:,i]))\n",
        "\n",
        "r = states[:, resparams.train_length-1]\n"
      ],
      "execution_count": 0,
      "outputs": []
    },
    {
      "cell_type": "markdown",
      "metadata": {
        "id": "OJ8-ZiYUTJsw",
        "colab_type": "text"
      },
      "source": [
        "## Assign the hidden space states to the independent variable X and the target predictions as the dependent variable y"
      ]
    },
    {
      "cell_type": "code",
      "metadata": {
        "id": "-rjfH5-v-OKJ",
        "colab_type": "code",
        "colab": {}
      },
      "source": [
        "X = states\n",
        "y = data[:, :resparams.train_length]\n",
        "idenmat = np.eye(resparams.N)"
      ],
      "execution_count": 0,
      "outputs": []
    },
    {
      "cell_type": "markdown",
      "metadata": {
        "id": "bGZeh6eWTUS5",
        "colab_type": "text"
      },
      "source": [
        "## Analytically solve the linear regression problem "
      ]
    },
    {
      "cell_type": "code",
      "metadata": {
        "id": "JUpnkrhC9jVX",
        "colab_type": "code",
        "colab": {}
      },
      "source": [
        "w_out = np.dot(np.dot(y, X.T), scipy.linalg.pinv2(np.dot(X, X.T) + resparams.beta*idenmat)).reshape(3,-1)"
      ],
      "execution_count": 0,
      "outputs": []
    },
    {
      "cell_type": "markdown",
      "metadata": {
        "id": "RPP_BPP-TZUp",
        "colab_type": "text"
      },
      "source": [
        "## Predict the future using the neural network by stacking the single step predictions on top of each other"
      ]
    },
    {
      "cell_type": "code",
      "metadata": {
        "id": "JXimohM8-t9D",
        "colab_type": "code",
        "colab": {}
      },
      "source": [
        "r = states[:, resparams.train_length-1]\n",
        "\n",
        "predictions = np.zeros((3, resparams.predict_length))\n",
        "\n",
        "for t in range(resparams.predict_length -1):\n",
        "\tout = np.dot(w_out, r)\n",
        "\tr = np.tanh(A.dot(r) + np.dot(win,out))\n",
        "\tpredictions[:, t] = out"
      ],
      "execution_count": 0,
      "outputs": []
    },
    {
      "cell_type": "markdown",
      "metadata": {
        "id": "ueQPk9ZLTtBv",
        "colab_type": "text"
      },
      "source": [
        "## Compare the prediction with the truth"
      ]
    },
    {
      "cell_type": "code",
      "metadata": {
        "id": "45Kg0W8Y-9kt",
        "colab_type": "code",
        "colab": {}
      },
      "source": [
        "plt.plot(predictions.T[1:200,1], label= 'Prediction')\n",
        "plt.plot(data[1, resparams.train_length:resparams.train_length+200-1],  label = 'Truth')\n",
        "plt.legend(bbox_to_anchor=(0., 1.02, 1., .102), loc=3,\n",
        "           ncol=2, mode=\"expand\", borderaxespad=0.)\n",
        "plt.show()"
      ],
      "execution_count": 0,
      "outputs": []
    },
    {
      "cell_type": "markdown",
      "metadata": {
        "id": "yq1_RNITTwyt",
        "colab_type": "text"
      },
      "source": [
        "## Look at the attractor made by the neural network"
      ]
    },
    {
      "cell_type": "code",
      "metadata": {
        "id": "mkUJnaSH_TxW",
        "colab_type": "code",
        "colab": {}
      },
      "source": [
        "from mpl_toolkits import mplot3d\n",
        "\n",
        "%matplotlib inline\n",
        "\n",
        "fig = plt.figure()\n",
        "ax = plt.axes(projection='3d')\n",
        "\n",
        "# Data for a three-dimensional line\n",
        "xline = predictions.T[1:,0]\n",
        "yline = predictions.T[1:,1]\n",
        "zline = predictions.T[1:,2]\n",
        "ax.plot3D(xline, yline, zline, 'r')\n",
        "\n"
      ],
      "execution_count": 0,
      "outputs": []
    },
    {
      "cell_type": "markdown",
      "metadata": {
        "id": "9aInysbTT2-8",
        "colab_type": "text"
      },
      "source": [
        "## Compare with the true attractor"
      ]
    },
    {
      "cell_type": "code",
      "metadata": {
        "id": "0coQtqhR_1GY",
        "colab_type": "code",
        "colab": {}
      },
      "source": [
        "compare = data[:, resparams.train_length:resparams.train_length+resparams.predict_length-1]\n",
        "\n",
        "\n",
        "fig = plt.figure()\n",
        "ax = plt.axes(projection='3d')\n",
        "xline = compare.T[1:,0]\n",
        "yline = compare.T[1:,1]\n",
        "zline = compare.T[1:,2]\n",
        "ax.plot3D(xline, yline, zline, 'blue')"
      ],
      "execution_count": 0,
      "outputs": []
    }
  ]
}